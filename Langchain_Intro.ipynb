{
 "cells": [
  {
   "cell_type": "code",
   "execution_count": 25,
   "metadata": {},
   "outputs": [
    {
     "data": {
      "text/plain": [
       "True"
      ]
     },
     "execution_count": 25,
     "metadata": {},
     "output_type": "execute_result"
    }
   ],
   "source": [
    "from dotenv import load_dotenv\n",
    "load_dotenv()"
   ]
  },
  {
   "cell_type": "code",
   "execution_count": 26,
   "metadata": {},
   "outputs": [],
   "source": [
    "# LLM libraries\n",
    "from langchain_core.prompts import PromptTemplate\n",
    "from langchain.output_parsers import ResponseSchema, StructuredOutputParser\n",
    "from langchain.chains.llm import LLMChain\n",
    "from langchain_openai import ChatOpenAI"
   ]
  },
  {
   "cell_type": "markdown",
   "metadata": {},
   "source": [
    "### 1. Creating Prompt:"
   ]
  },
  {
   "cell_type": "code",
   "execution_count": 29,
   "metadata": {},
   "outputs": [
    {
     "name": "stdout",
     "output_type": "stream",
     "text": [
      "input_variables=['feedback'] template=' \\nYou are an expert researcher analyst in customer success team. Your job is the analyze the customer feedback and provide insights to the product team. Given the following customer feedback, provide the below insights: 1. Product: Name of the product in review. 2. Summary: Provide a summary of the feedback along with the sentiment. 3. Positives: List out the positive feedbacks. 4. Negatives: List out the negative feedbacks. \\nCustomer Feedback: {feedback}\\n'\n"
     ]
    }
   ],
   "source": [
    "template_string = \"\"\" \n",
    "You are an expert researcher analyst in customer success team. \\\n",
    "Your job is the analyze the customer feedback and provide insights to the product team. \\\n",
    "Given the following customer feedback, provide the below insights: \\\n",
    "1. Product: Name of the product in review. \\\n",
    "2. Summary: Provide a summary of the feedback along with the sentiment. \\\n",
    "3. Positives: List out the positive feedbacks. \\\n",
    "4. Negatives: List out the negative feedbacks. \\\n",
    "\n",
    "Customer Feedback: \\\n",
    "{feedback}\n",
    "\n",
    "\"\"\"\n",
    "\n",
    "prompt = PromptTemplate.from_template(template_string)\n",
    "print(prompt)"
   ]
  },
  {
   "cell_type": "markdown",
   "metadata": {},
   "source": [
    "### 2. Creating an LLM Chain:"
   ]
  },
  {
   "cell_type": "code",
   "execution_count": 30,
   "metadata": {},
   "outputs": [
    {
     "data": {
      "text/plain": [
       "LLMChain(prompt=PromptTemplate(input_variables=['feedback'], template=' \\nYou are an expert researcher analyst in customer success team. Your job is the analyze the customer feedback and provide insights to the product team. Given the following customer feedback, provide the below insights: 1. Product: Name of the product in review. 2. Summary: Provide a summary of the feedback along with the sentiment. 3. Positives: List out the positive feedbacks. 4. Negatives: List out the negative feedbacks. \\nCustomer Feedback: {feedback}\\n'), llm=ChatOpenAI(client=<openai.resources.chat.completions.Completions object at 0x7fd34333be50>, async_client=<openai.resources.chat.completions.AsyncCompletions object at 0x7fd343a333d0>, model_name='gpt-4o-mini', temperature=0.0, openai_api_key=SecretStr('**********'), openai_proxy=''))"
      ]
     },
     "execution_count": 30,
     "metadata": {},
     "output_type": "execute_result"
    }
   ],
   "source": [
    "### Defining the LLM chain\n",
    "llm_chain = LLMChain(\n",
    "    llm=ChatOpenAI(model=\"gpt-4o-mini\",temperature=0),\n",
    "    prompt=prompt\n",
    ")\n",
    "\n",
    "llm_chain"
   ]
  },
  {
   "cell_type": "markdown",
   "metadata": {},
   "source": [
    "### 3. Generating output:"
   ]
  },
  {
   "cell_type": "code",
   "execution_count": 31,
   "metadata": {},
   "outputs": [],
   "source": [
    "review = \"The samsung a70 is amazing and the customer service is very helpful. However, the product is very expensive.\"\n",
    "output = llm_chain.invoke({\"feedback\":review})"
   ]
  },
  {
   "cell_type": "code",
   "execution_count": 32,
   "metadata": {},
   "outputs": [
    {
     "data": {
      "text/plain": [
       "{'feedback': 'The samsung a70 is amazing and the customer service is very helpful. However, the product is very expensive.',\n",
       " 'text': \"1. **Product:** Samsung A70\\n\\n2. **Summary:** The customer feedback expresses a positive sentiment towards the Samsung A70, highlighting its amazing features and the helpfulness of the customer service. However, the customer also notes a negative aspect regarding the product's high price, indicating that they find it to be very expensive.\\n\\n3. **Positives:**\\n   - The Samsung A70 is described as amazing.\\n   - The customer service is noted to be very helpful.\\n\\n4. **Negatives:**\\n   - The product is considered very expensive.\"}"
      ]
     },
     "execution_count": 32,
     "metadata": {},
     "output_type": "execute_result"
    }
   ],
   "source": [
    "output"
   ]
  },
  {
   "cell_type": "code",
   "execution_count": 33,
   "metadata": {},
   "outputs": [
    {
     "name": "stdout",
     "output_type": "stream",
     "text": [
      "1. **Product:** Samsung A70\n",
      "\n",
      "2. **Summary:** The customer feedback expresses a positive sentiment towards the Samsung A70, highlighting its amazing features and the helpfulness of the customer service. However, the customer also notes a negative aspect regarding the product's high price, indicating that they find it to be very expensive.\n",
      "\n",
      "3. **Positives:**\n",
      "   - The Samsung A70 is described as amazing.\n",
      "   - The customer service is noted to be very helpful.\n",
      "\n",
      "4. **Negatives:**\n",
      "   - The product is considered very expensive.\n"
     ]
    }
   ],
   "source": [
    "print(output['text'])"
   ]
  },
  {
   "cell_type": "markdown",
   "metadata": {},
   "source": [
    "### 4. Output Parsing:"
   ]
  },
  {
   "cell_type": "code",
   "execution_count": 34,
   "metadata": {},
   "outputs": [],
   "source": [
    "### Defining the output schema from the LLM        \n",
    "output_schema = ResponseSchema(name=\"review_analysis\",description=\"Review analysis output\")\n",
    "output_parser = StructuredOutputParser.from_response_schemas([output_schema])\n",
    "format_instructions = output_parser.get_format_instructions()"
   ]
  },
  {
   "cell_type": "code",
   "execution_count": 36,
   "metadata": {},
   "outputs": [
    {
     "name": "stdout",
     "output_type": "stream",
     "text": [
      "The output should be a markdown code snippet formatted in the following schema, including the leading and trailing \"```json\" and \"```\":\n",
      "\n",
      "```json\n",
      "{\n",
      "\t\"review_analysis\": string  // Review analysis output\n",
      "}\n",
      "```\n"
     ]
    }
   ],
   "source": [
    "print(format_instructions)"
   ]
  },
  {
   "cell_type": "code",
   "execution_count": 37,
   "metadata": {},
   "outputs": [],
   "source": [
    "template_string = \"\"\" \n",
    "You are an expert researcher analyst in customer success team. \\\n",
    "Your job is the analyze the customer feedback and provide insights to the product team. \\\n",
    "Given the following customer feedback, provide the below insights: \\\n",
    "1. Product: Name of the product in review. \\\n",
    "2. Summary: Provide a summary of the feedback along with the sentiment. \\\n",
    "3. Positives: List out the positive feedbacks. \\\n",
    "4. Negatives: List out the negative feedbacks. \\\n",
    "\n",
    "Customer Feedback: \\\n",
    "{feedback}\n",
    "\n",
    "{format_instructions}\n",
    "\"\"\"\n",
    "\n",
    "prompt = PromptTemplate.from_template(template_string)\n",
    "\n",
    "\n",
    "### Defining the LLM chain\n",
    "llm_chain = LLMChain(\n",
    "    llm=ChatOpenAI(model=\"gpt-4o-mini\",temperature=0),\n",
    "    prompt=prompt,\n",
    "    output_parser=output_parser\n",
    ")\n",
    "\n",
    "review = \"The samsung a70 is amazing and the customer service is very helpful. However, the product is very expensive.\"\n",
    "output = llm_chain.invoke({\"feedback\":review,\"format_instructions\":format_instructions})"
   ]
  },
  {
   "cell_type": "code",
   "execution_count": 38,
   "metadata": {},
   "outputs": [
    {
     "data": {
      "text/plain": [
       "{'feedback': 'The samsung a70 is amazing and the customer service is very helpful. However, the product is very expensive.',\n",
       " 'format_instructions': 'The output should be a markdown code snippet formatted in the following schema, including the leading and trailing \"```json\" and \"```\":\\n\\n```json\\n{\\n\\t\"review_analysis\": string  // Review analysis output\\n}\\n```',\n",
       " 'text': {'review_analysis': {'Product': 'Samsung A70',\n",
       "   'Summary': 'The customer finds the Samsung A70 to be amazing and appreciates the helpful customer service, but feels that the product is very expensive. The overall sentiment is mixed, leaning towards positive.',\n",
       "   'Positives': ['The Samsung A70 is amazing.',\n",
       "    'Customer service is very helpful.'],\n",
       "   'Negatives': ['The product is very expensive.']}}}"
      ]
     },
     "execution_count": 38,
     "metadata": {},
     "output_type": "execute_result"
    }
   ],
   "source": [
    "output"
   ]
  },
  {
   "cell_type": "code",
   "execution_count": 39,
   "metadata": {},
   "outputs": [
    {
     "name": "stdout",
     "output_type": "stream",
     "text": [
      "{'review_analysis': {'Product': 'Samsung A70', 'Summary': 'The customer finds the Samsung A70 to be amazing and appreciates the helpful customer service, but feels that the product is very expensive. The overall sentiment is mixed, leaning towards positive.', 'Positives': ['The Samsung A70 is amazing.', 'Customer service is very helpful.'], 'Negatives': ['The product is very expensive.']}}\n"
     ]
    }
   ],
   "source": [
    "print(output['text'])"
   ]
  },
  {
   "cell_type": "code",
   "execution_count": 40,
   "metadata": {},
   "outputs": [
    {
     "name": "stdout",
     "output_type": "stream",
     "text": [
      "{'Product': 'Samsung A70', 'Summary': 'The customer finds the Samsung A70 to be amazing and appreciates the helpful customer service, but feels that the product is very expensive. The overall sentiment is mixed, leaning towards positive.', 'Positives': ['The Samsung A70 is amazing.', 'Customer service is very helpful.'], 'Negatives': ['The product is very expensive.']}\n"
     ]
    }
   ],
   "source": [
    "print(output['text']['review_analysis'])"
   ]
  },
  {
   "cell_type": "code",
   "execution_count": 41,
   "metadata": {},
   "outputs": [],
   "source": [
    "parsed_output = output['text']['review_analysis']"
   ]
  },
  {
   "cell_type": "code",
   "execution_count": 42,
   "metadata": {},
   "outputs": [
    {
     "data": {
      "text/plain": [
       "{'Product': 'Samsung A70',\n",
       " 'Summary': 'The customer finds the Samsung A70 to be amazing and appreciates the helpful customer service, but feels that the product is very expensive. The overall sentiment is mixed, leaning towards positive.',\n",
       " 'Positives': ['The Samsung A70 is amazing.',\n",
       "  'Customer service is very helpful.'],\n",
       " 'Negatives': ['The product is very expensive.']}"
      ]
     },
     "execution_count": 42,
     "metadata": {},
     "output_type": "execute_result"
    }
   ],
   "source": [
    "parsed_output"
   ]
  },
  {
   "cell_type": "code",
   "execution_count": 43,
   "metadata": {},
   "outputs": [
    {
     "data": {
      "text/plain": [
       "dict"
      ]
     },
     "execution_count": 43,
     "metadata": {},
     "output_type": "execute_result"
    }
   ],
   "source": [
    "type(parsed_output)"
   ]
  },
  {
   "cell_type": "code",
   "execution_count": null,
   "metadata": {},
   "outputs": [],
   "source": []
  }
 ],
 "metadata": {
  "kernelspec": {
   "display_name": "sqlgenpro",
   "language": "python",
   "name": "python3"
  },
  "language_info": {
   "codemirror_mode": {
    "name": "ipython",
    "version": 3
   },
   "file_extension": ".py",
   "mimetype": "text/x-python",
   "name": "python",
   "nbconvert_exporter": "python",
   "pygments_lexer": "ipython3",
   "version": "3.9.19"
  }
 },
 "nbformat": 4,
 "nbformat_minor": 2
}
